{
 "cells": [
  {
   "cell_type": "markdown",
   "id": "c5591250",
   "metadata": {},
   "source": [
    "My Jupyter Notebook on IBM Watson Studio"
   ]
  },
  {
   "cell_type": "markdown",
   "id": "df00860a",
   "metadata": {},
   "source": [
    "**M Uzair Khan**\n",
    "Desired Occupation: Data Scientist"
   ]
  },
  {
   "cell_type": "markdown",
   "id": "70d3704d",
   "metadata": {},
   "source": [
    "_I want to learn Data Science because I want to learn more things in Python and it is very interesting_"
   ]
  },
  {
   "cell_type": "markdown",
   "id": "7fd4d7c8",
   "metadata": {},
   "source": [
    "In the below cell I want to show the multiplication of two numbers"
   ]
  },
  {
   "cell_type": "code",
   "execution_count": 3,
   "id": "2129c140",
   "metadata": {},
   "outputs": [
    {
     "data": {
      "text/plain": [
       "4"
      ]
     },
     "execution_count": 3,
     "metadata": {},
     "output_type": "execute_result"
    }
   ],
   "source": [
    "2*2"
   ]
  },
  {
   "cell_type": "markdown",
   "id": "6f10b5cf",
   "metadata": {},
   "source": [
    "list = [\"Jod\",1,2,3,4,5]\n",
    "print(\"Hello Wolrd\")\n",
    "import os"
   ]
  },
  {
   "cell_type": "code",
   "execution_count": null,
   "id": "b4c80266",
   "metadata": {},
   "outputs": [],
   "source": []
  }
 ],
 "metadata": {
  "kernelspec": {
   "display_name": "Python 3 (ipykernel)",
   "language": "python",
   "name": "python3"
  },
  "language_info": {
   "codemirror_mode": {
    "name": "ipython",
    "version": 3
   },
   "file_extension": ".py",
   "mimetype": "text/x-python",
   "name": "python",
   "nbconvert_exporter": "python",
   "pygments_lexer": "ipython3",
   "version": "3.11.0"
  }
 },
 "nbformat": 4,
 "nbformat_minor": 5
}
